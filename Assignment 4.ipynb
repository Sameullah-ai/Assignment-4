{
 "cells": [
  {
   "cell_type": "code",
   "execution_count": 1,
   "id": "6af85905-7ab7-4971-9c89-4b93818dec7c",
   "metadata": {},
   "outputs": [
    {
     "data": {
      "text/plain": [
       "[{'id': 1150, 'name': 'Ubaid', 'department': 'inventory', 'tenure': '3 years'}]"
      ]
     },
     "execution_count": 1,
     "metadata": {},
     "output_type": "execute_result"
    }
   ],
   "source": [
    "Employees=[\n",
    "    { \n",
    "     'id' : 1150,\n",
    "     'name':'Ubaid',\n",
    "     'department': 'inventory',\n",
    "     'tenure': '3 years'\n",
    "},\n",
    "]\n",
    "\n",
    "Employee1={ \n",
    "     'id' : 1155,\n",
    "     'name':'Ahsan',\n",
    "     'department': 'Marketing',\n",
    "      'tenure': '2 years'\n",
    "},\n",
    "\n",
    "Employee2={ \n",
    "    'id' : 1160,\n",
    "    'name': 'Uzair',\n",
    "     'department': 'Finance',\n",
    "     'tenure': '3.5 years'\n",
    "},\n",
    "\n",
    "Employee3={ \n",
    "    'id' : 1170,\n",
    "    'name': 'Zubair',\n",
    "    'department': 'Admin',\n",
    "    'tenure': '1.5 years'\n",
    "},\n",
    "\n",
    "Employee4={ \n",
    "    'id' : 1180,\n",
    "    'name': 'Waqas',\n",
    "    'department': 'Data',\n",
    "    'tenure': '4 years'\n",
    "}\n",
    "\n",
    "\n",
    "Employees\n",
    "\n",
    "\n",
    "\n"
   ]
  },
  {
   "cell_type": "code",
   "execution_count": 2,
   "id": "8f5ee3f8-7741-41a0-9955-b0b53a4564cd",
   "metadata": {},
   "outputs": [
    {
     "data": {
      "text/plain": [
       "[{'id': 1150, 'name': 'Ubaid', 'department': 'inventory', 'tenure': '3 years'},\n",
       " ({'id': 1155,\n",
       "   'name': 'Ahsan',\n",
       "   'department': 'Marketing',\n",
       "   'tenure': '2 years'},)]"
      ]
     },
     "execution_count": 2,
     "metadata": {},
     "output_type": "execute_result"
    }
   ],
   "source": [
    "Employees.append(Employee1)\n",
    "Employees"
   ]
  },
  {
   "cell_type": "code",
   "execution_count": 3,
   "id": "2db4c07e-d375-476d-bda5-3ebd3943456f",
   "metadata": {},
   "outputs": [
    {
     "data": {
      "text/plain": [
       "[{'id': 1150, 'name': 'Ubaid', 'department': 'inventory', 'tenure': '3 years'},\n",
       " ({'id': 1155,\n",
       "   'name': 'Ahsan',\n",
       "   'department': 'Marketing',\n",
       "   'tenure': '2 years'},)]"
      ]
     },
     "execution_count": 3,
     "metadata": {},
     "output_type": "execute_result"
    }
   ],
   "source": [
    "Employees"
   ]
  },
  {
   "cell_type": "code",
   "execution_count": 4,
   "id": "35c9d817-7142-4b60-8d39-9617f50627f0",
   "metadata": {},
   "outputs": [
    {
     "data": {
      "text/plain": [
       "[{'id': 1150, 'name': 'Ubaid', 'department': 'inventory', 'tenure': '3 years'},\n",
       " ({'id': 1155,\n",
       "   'name': 'Ahsan',\n",
       "   'department': 'Marketing',\n",
       "   'tenure': '2 years'},),\n",
       " ({'id': 1160,\n",
       "   'name': 'Uzair',\n",
       "   'department': 'Finance',\n",
       "   'tenure': '3.5 years'},)]"
      ]
     },
     "execution_count": 4,
     "metadata": {},
     "output_type": "execute_result"
    }
   ],
   "source": [
    "Employees.append(Employee2)\n",
    "Employees"
   ]
  },
  {
   "cell_type": "code",
   "execution_count": 5,
   "id": "e4b9f8c5-ff6e-443e-a79f-b931f523c74c",
   "metadata": {},
   "outputs": [
    {
     "data": {
      "text/plain": [
       "[{'id': 1150, 'name': 'Ubaid', 'department': 'inventory', 'tenure': '3 years'},\n",
       " ({'id': 1155,\n",
       "   'name': 'Ahsan',\n",
       "   'department': 'Marketing',\n",
       "   'tenure': '2 years'},),\n",
       " ({'id': 1160,\n",
       "   'name': 'Uzair',\n",
       "   'department': 'Finance',\n",
       "   'tenure': '3.5 years'},)]"
      ]
     },
     "execution_count": 5,
     "metadata": {},
     "output_type": "execute_result"
    }
   ],
   "source": [
    "Employees"
   ]
  },
  {
   "cell_type": "code",
   "execution_count": 6,
   "id": "2f94d1e4-eaa5-4851-a8b4-bd906de95a0e",
   "metadata": {},
   "outputs": [
    {
     "data": {
      "text/plain": [
       "[{'id': 1150, 'name': 'Ubaid', 'department': 'inventory', 'tenure': '3 years'},\n",
       " ({'id': 1155,\n",
       "   'name': 'Ahsan',\n",
       "   'department': 'Marketing',\n",
       "   'tenure': '2 years'},),\n",
       " ({'id': 1160,\n",
       "   'name': 'Uzair',\n",
       "   'department': 'Finance',\n",
       "   'tenure': '3.5 years'},),\n",
       " ({'id': 1170,\n",
       "   'name': 'Zubair',\n",
       "   'department': 'Admin',\n",
       "   'tenure': '1.5 years'},)]"
      ]
     },
     "execution_count": 6,
     "metadata": {},
     "output_type": "execute_result"
    }
   ],
   "source": [
    "Employees.append(Employee3)\n",
    "Employees"
   ]
  },
  {
   "cell_type": "code",
   "execution_count": 7,
   "id": "474afe83-d029-4860-944c-ebf4cfee50b6",
   "metadata": {},
   "outputs": [
    {
     "data": {
      "text/plain": [
       "[{'id': 1150, 'name': 'Ubaid', 'department': 'inventory', 'tenure': '3 years'},\n",
       " ({'id': 1155,\n",
       "   'name': 'Ahsan',\n",
       "   'department': 'Marketing',\n",
       "   'tenure': '2 years'},),\n",
       " ({'id': 1160,\n",
       "   'name': 'Uzair',\n",
       "   'department': 'Finance',\n",
       "   'tenure': '3.5 years'},),\n",
       " ({'id': 1170,\n",
       "   'name': 'Zubair',\n",
       "   'department': 'Admin',\n",
       "   'tenure': '1.5 years'},),\n",
       " {'id': 1180, 'name': 'Waqas', 'department': 'Data', 'tenure': '4 years'}]"
      ]
     },
     "execution_count": 7,
     "metadata": {},
     "output_type": "execute_result"
    }
   ],
   "source": [
    "Employees.append(Employee4)\n",
    "Employees"
   ]
  },
  {
   "cell_type": "code",
   "execution_count": 8,
   "id": "60c8ca94-2e4f-4a06-a9b0-5706ad6ddd72",
   "metadata": {},
   "outputs": [
    {
     "data": {
      "text/plain": [
       "[{'id': 1150, 'name': 'Ubaid', 'department': 'inventory', 'tenure': '3 years'},\n",
       " ({'id': 1155,\n",
       "   'name': 'Ahsan',\n",
       "   'department': 'Marketing',\n",
       "   'tenure': '2 years'},),\n",
       " ({'id': 1160,\n",
       "   'name': 'Uzair',\n",
       "   'department': 'Finance',\n",
       "   'tenure': '3.5 years'},),\n",
       " ({'id': 1170,\n",
       "   'name': 'Zubair',\n",
       "   'department': 'Admin',\n",
       "   'tenure': '1.5 years'},),\n",
       " {'id': 1180, 'name': 'Waqas', 'department': 'Data', 'tenure': '4 years'}]"
      ]
     },
     "execution_count": 8,
     "metadata": {},
     "output_type": "execute_result"
    }
   ],
   "source": [
    "Employees"
   ]
  },
  {
   "cell_type": "code",
   "execution_count": 9,
   "id": "1d6f1bf7-6e9c-4d4b-94b1-9763e85a0296",
   "metadata": {},
   "outputs": [],
   "source": [
    "# You are managing an inventory system where each item has an item ID, description, and quantity available. (Use tuples to represent each inventory item"
   ]
  },
  {
   "cell_type": "code",
   "execution_count": 10,
   "id": "85a0a27b-82b1-427a-bf60-b5c4dd423ebc",
   "metadata": {},
   "outputs": [
    {
     "data": {
      "text/plain": [
       "[{'id': 156,\n",
       "  'description': 'high quality soap 128 gm with minimum price in the market ',\n",
       "  'Product name': 'LifeBuoy Soap',\n",
       "  'Type': 'Soap',\n",
       "  'Quantity': 50}]"
      ]
     },
     "execution_count": 10,
     "metadata": {},
     "output_type": "execute_result"
    }
   ],
   "source": [
    "Items=[\n",
    "    { \n",
    "    'id' : 156,\n",
    "     'description':'high quality soap 128 gm with minimum price in the market ',\n",
    "      'Product name': 'LifeBuoy Soap',\n",
    "       'Type': 'Soap',\n",
    "        'Quantity' : 50\n",
    "        \n",
    "},\n",
    "]\n",
    "\n",
    "Item1={ \n",
    "      'id' : 158,\n",
    "     'description':'high quality detergent 1000 gm with minimum price in the market ',\n",
    "      'Product name': 'Surf Excel',\n",
    "      'Type': 'Detergent',\n",
    "      'Quantity' : 30\n",
    "},\n",
    "\n",
    "Item2={ \n",
    "    'id' : 159,\n",
    "     'description':'high quality facewash 128 gm with minimum price in the market ',\n",
    "      'Product name': 'Lifebuoy-facewash',\n",
    "       'Type': 'facewash',\n",
    "      'Quantity' : 20\n",
    "},\n",
    "\n",
    "Item3={ \n",
    "    'id' : 164,\n",
    "     'description':'high quality shampoo 700 gm with minimum price in the market ',\n",
    "      'Product name': 'LifeBuoy shampoo',\n",
    "      'Type': 'Shampoo',\n",
    "      'Quantity' : 10\n",
    "},\n",
    "\n",
    "Item4={ \n",
    "    'id' : 167,\n",
    "     'description':'high quality Oil 100 gm with minimum price in the market ',\n",
    "      'Product name': 'LifeBuoy Oil',\n",
    "      'Type': 'Oil',\n",
    "      'Quantity' : 40\n",
    "\n",
    "}\n",
    "\n",
    "\n",
    "Items"
   ]
  },
  {
   "cell_type": "code",
   "execution_count": 11,
   "id": "b804195e-0579-40be-8e9f-96bdf509dbb7",
   "metadata": {},
   "outputs": [
    {
     "data": {
      "text/plain": [
       "[{'id': 156,\n",
       "  'description': 'high quality soap 128 gm with minimum price in the market ',\n",
       "  'Product name': 'LifeBuoy Soap',\n",
       "  'Type': 'Soap',\n",
       "  'Quantity': 50},\n",
       " ({'id': 158,\n",
       "   'description': 'high quality detergent 1000 gm with minimum price in the market ',\n",
       "   'Product name': 'Surf Excel',\n",
       "   'Type': 'Detergent',\n",
       "   'Quantity': 30},)]"
      ]
     },
     "execution_count": 11,
     "metadata": {},
     "output_type": "execute_result"
    }
   ],
   "source": [
    "Items.append(Item1)\n",
    "Items"
   ]
  },
  {
   "cell_type": "code",
   "execution_count": 12,
   "id": "1bba0de9-5d7b-4e89-9a9a-e3b5ef8a85b4",
   "metadata": {},
   "outputs": [
    {
     "data": {
      "text/plain": [
       "[{'id': 156,\n",
       "  'description': 'high quality soap 128 gm with minimum price in the market ',\n",
       "  'Product name': 'LifeBuoy Soap',\n",
       "  'Type': 'Soap',\n",
       "  'Quantity': 50},\n",
       " ({'id': 158,\n",
       "   'description': 'high quality detergent 1000 gm with minimum price in the market ',\n",
       "   'Product name': 'Surf Excel',\n",
       "   'Type': 'Detergent',\n",
       "   'Quantity': 30},),\n",
       " ({'id': 159,\n",
       "   'description': 'high quality facewash 128 gm with minimum price in the market ',\n",
       "   'Product name': 'Lifebuoy-facewash',\n",
       "   'Type': 'facewash',\n",
       "   'Quantity': 20},)]"
      ]
     },
     "execution_count": 12,
     "metadata": {},
     "output_type": "execute_result"
    }
   ],
   "source": [
    "Items.append(Item2)\n",
    "Items"
   ]
  },
  {
   "cell_type": "code",
   "execution_count": 13,
   "id": "09e01673-2524-48a3-bcb4-7c1176fb0d1d",
   "metadata": {},
   "outputs": [
    {
     "data": {
      "text/plain": [
       "[{'id': 156,\n",
       "  'description': 'high quality soap 128 gm with minimum price in the market ',\n",
       "  'Product name': 'LifeBuoy Soap',\n",
       "  'Type': 'Soap',\n",
       "  'Quantity': 50},\n",
       " ({'id': 158,\n",
       "   'description': 'high quality detergent 1000 gm with minimum price in the market ',\n",
       "   'Product name': 'Surf Excel',\n",
       "   'Type': 'Detergent',\n",
       "   'Quantity': 30},),\n",
       " ({'id': 159,\n",
       "   'description': 'high quality facewash 128 gm with minimum price in the market ',\n",
       "   'Product name': 'Lifebuoy-facewash',\n",
       "   'Type': 'facewash',\n",
       "   'Quantity': 20},),\n",
       " ({'id': 164,\n",
       "   'description': 'high quality shampoo 700 gm with minimum price in the market ',\n",
       "   'Product name': 'LifeBuoy shampoo',\n",
       "   'Type': 'Shampoo',\n",
       "   'Quantity': 10},)]"
      ]
     },
     "execution_count": 13,
     "metadata": {},
     "output_type": "execute_result"
    }
   ],
   "source": [
    "Items.append(Item3)\n",
    "Items"
   ]
  },
  {
   "cell_type": "code",
   "execution_count": 14,
   "id": "3ecad0eb-c074-41b6-952d-ce908ebe3dfd",
   "metadata": {},
   "outputs": [
    {
     "data": {
      "text/plain": [
       "[{'id': 156,\n",
       "  'description': 'high quality soap 128 gm with minimum price in the market ',\n",
       "  'Product name': 'LifeBuoy Soap',\n",
       "  'Type': 'Soap',\n",
       "  'Quantity': 50},\n",
       " ({'id': 158,\n",
       "   'description': 'high quality detergent 1000 gm with minimum price in the market ',\n",
       "   'Product name': 'Surf Excel',\n",
       "   'Type': 'Detergent',\n",
       "   'Quantity': 30},),\n",
       " ({'id': 159,\n",
       "   'description': 'high quality facewash 128 gm with minimum price in the market ',\n",
       "   'Product name': 'Lifebuoy-facewash',\n",
       "   'Type': 'facewash',\n",
       "   'Quantity': 20},),\n",
       " ({'id': 164,\n",
       "   'description': 'high quality shampoo 700 gm with minimum price in the market ',\n",
       "   'Product name': 'LifeBuoy shampoo',\n",
       "   'Type': 'Shampoo',\n",
       "   'Quantity': 10},),\n",
       " {'id': 167,\n",
       "  'description': 'high quality Oil 100 gm with minimum price in the market ',\n",
       "  'Product name': 'LifeBuoy Oil',\n",
       "  'Type': 'Oil',\n",
       "  'Quantity': 40}]"
      ]
     },
     "execution_count": 14,
     "metadata": {},
     "output_type": "execute_result"
    }
   ],
   "source": [
    "Items.append(Item4)\n",
    "Items"
   ]
  },
  {
   "cell_type": "code",
   "execution_count": 15,
   "id": "df557bd5-fd74-4cdd-93d3-ebcf5985a25f",
   "metadata": {},
   "outputs": [
    {
     "data": {
      "text/plain": [
       "[{'id': 156,\n",
       "  'description': 'high quality soap 128 gm with minimum price in the market ',\n",
       "  'Product name': 'LifeBuoy Soap',\n",
       "  'Type': 'Soap',\n",
       "  'Quantity': 50},\n",
       " ({'id': 158,\n",
       "   'description': 'high quality detergent 1000 gm with minimum price in the market ',\n",
       "   'Product name': 'Surf Excel',\n",
       "   'Type': 'Detergent',\n",
       "   'Quantity': 30},),\n",
       " ({'id': 159,\n",
       "   'description': 'high quality facewash 128 gm with minimum price in the market ',\n",
       "   'Product name': 'Lifebuoy-facewash',\n",
       "   'Type': 'facewash',\n",
       "   'Quantity': 20},),\n",
       " ({'id': 164,\n",
       "   'description': 'high quality shampoo 700 gm with minimum price in the market ',\n",
       "   'Product name': 'LifeBuoy shampoo',\n",
       "   'Type': 'Shampoo',\n",
       "   'Quantity': 10},),\n",
       " {'id': 167,\n",
       "  'description': 'high quality Oil 100 gm with minimum price in the market ',\n",
       "  'Product name': 'LifeBuoy Oil',\n",
       "  'Type': 'Oil',\n",
       "  'Quantity': 40}]"
      ]
     },
     "execution_count": 15,
     "metadata": {},
     "output_type": "execute_result"
    }
   ],
   "source": [
    "Items"
   ]
  },
  {
   "cell_type": "code",
   "execution_count": 16,
   "id": "de27bae2-4d9a-4903-abb6-e1814d721ad6",
   "metadata": {},
   "outputs": [],
   "source": [
    "#3 You need to store the dates and times of scheduled events, like meetings or appointments"
   ]
  },
  {
   "cell_type": "code",
   "execution_count": 17,
   "id": "fdfc4e3d-533e-4f93-83c3-039e8cafa69b",
   "metadata": {},
   "outputs": [
    {
     "data": {
      "text/plain": [
       "[{'Appointment No': 156,\n",
       "  'Date': '12 Dec 2024',\n",
       "  'Dr': 'Asadullah',\n",
       "  'Time': '12:00',\n",
       "  'Fees': 500}]"
      ]
     },
     "execution_count": 17,
     "metadata": {},
     "output_type": "execute_result"
    }
   ],
   "source": [
    "Appointments =[\n",
    "    { \n",
    "    'Appointment No' : 156,\n",
    "     'Date':'12 Dec 2024',\n",
    "      'Dr': 'Asadullah',\n",
    "       'Time': '12:00',\n",
    "        'Fees' : 500        \n",
    "},\n",
    "]\n",
    "\n",
    "Appointment1 ={ \n",
    "    'Appointment No' : 165,\n",
    "     'Date':'10 Dec 2024',\n",
    "      'Dr': 'Uzair',\n",
    "       'Time': '01:00',\n",
    "        'Fees' : 400   \n",
    "},\n",
    "\n",
    "Appointment2 ={ \n",
    "    'Appointment No' : 166,\n",
    "     'Date':'15 Nov 2024',\n",
    "      'Dr': 'Daniyal',\n",
    "       'Time': '12:50',\n",
    "        'Fees' : 1500     \n",
    "},\n",
    "Appointment3 ={ \n",
    "    'Appointment No' : 106,\n",
    "     'Date':'2 Dec 2024',\n",
    "      'Dr': 'Ahsan',\n",
    "       'Time': '12:30',\n",
    "        'Fees' : 200       \n",
    "},\n",
    "Appointment4 ={ \n",
    "    'Appointment No' : 176,\n",
    "     'Date':'22 Dec 2024',\n",
    "      'Dr': 'Hanzala',\n",
    "       'Time': '2:00',\n",
    "        'Fees' : 2500       \n",
    "},\n",
    "\n",
    "\n",
    "\n",
    "\n",
    "Appointments"
   ]
  },
  {
   "cell_type": "code",
   "execution_count": 18,
   "id": "f25c31b4-0bfc-4368-8835-9054f1862ab8",
   "metadata": {},
   "outputs": [
    {
     "data": {
      "text/plain": [
       "[{'Appointment No': 156,\n",
       "  'Date': '12 Dec 2024',\n",
       "  'Dr': 'Asadullah',\n",
       "  'Time': '12:00',\n",
       "  'Fees': 500},\n",
       " ({'Appointment No': 165,\n",
       "   'Date': '10 Dec 2024',\n",
       "   'Dr': 'Uzair',\n",
       "   'Time': '01:00',\n",
       "   'Fees': 400},)]"
      ]
     },
     "execution_count": 18,
     "metadata": {},
     "output_type": "execute_result"
    }
   ],
   "source": [
    "Appointments.append(Appointment1)\n",
    "Appointments"
   ]
  },
  {
   "cell_type": "code",
   "execution_count": 19,
   "id": "98edbf83-3c30-4e37-a799-8f0c2cd6607f",
   "metadata": {},
   "outputs": [
    {
     "data": {
      "text/plain": [
       "[{'Appointment No': 156,\n",
       "  'Date': '12 Dec 2024',\n",
       "  'Dr': 'Asadullah',\n",
       "  'Time': '12:00',\n",
       "  'Fees': 500},\n",
       " ({'Appointment No': 165,\n",
       "   'Date': '10 Dec 2024',\n",
       "   'Dr': 'Uzair',\n",
       "   'Time': '01:00',\n",
       "   'Fees': 400},),\n",
       " ({'Appointment No': 166,\n",
       "   'Date': '15 Nov 2024',\n",
       "   'Dr': 'Daniyal',\n",
       "   'Time': '12:50',\n",
       "   'Fees': 1500},)]"
      ]
     },
     "execution_count": 19,
     "metadata": {},
     "output_type": "execute_result"
    }
   ],
   "source": [
    "Appointments.append(Appointment2)\n",
    "Appointments"
   ]
  },
  {
   "cell_type": "code",
   "execution_count": 20,
   "id": "4ec54ac7-922a-4e58-8d34-8f9061a2a3b8",
   "metadata": {},
   "outputs": [
    {
     "data": {
      "text/plain": [
       "[{'Appointment No': 156,\n",
       "  'Date': '12 Dec 2024',\n",
       "  'Dr': 'Asadullah',\n",
       "  'Time': '12:00',\n",
       "  'Fees': 500},\n",
       " ({'Appointment No': 165,\n",
       "   'Date': '10 Dec 2024',\n",
       "   'Dr': 'Uzair',\n",
       "   'Time': '01:00',\n",
       "   'Fees': 400},),\n",
       " ({'Appointment No': 166,\n",
       "   'Date': '15 Nov 2024',\n",
       "   'Dr': 'Daniyal',\n",
       "   'Time': '12:50',\n",
       "   'Fees': 1500},),\n",
       " ({'Appointment No': 106,\n",
       "   'Date': '2 Dec 2024',\n",
       "   'Dr': 'Ahsan',\n",
       "   'Time': '12:30',\n",
       "   'Fees': 200},)]"
      ]
     },
     "execution_count": 20,
     "metadata": {},
     "output_type": "execute_result"
    }
   ],
   "source": [
    "Appointments.append(Appointment3)\n",
    "Appointments"
   ]
  },
  {
   "cell_type": "code",
   "execution_count": 21,
   "id": "bc600f7c-19df-468b-9f94-575d66ec746c",
   "metadata": {},
   "outputs": [
    {
     "data": {
      "text/plain": [
       "[{'Appointment No': 156,\n",
       "  'Date': '12 Dec 2024',\n",
       "  'Dr': 'Asadullah',\n",
       "  'Time': '12:00',\n",
       "  'Fees': 500},\n",
       " ({'Appointment No': 165,\n",
       "   'Date': '10 Dec 2024',\n",
       "   'Dr': 'Uzair',\n",
       "   'Time': '01:00',\n",
       "   'Fees': 400},),\n",
       " ({'Appointment No': 166,\n",
       "   'Date': '15 Nov 2024',\n",
       "   'Dr': 'Daniyal',\n",
       "   'Time': '12:50',\n",
       "   'Fees': 1500},),\n",
       " ({'Appointment No': 106,\n",
       "   'Date': '2 Dec 2024',\n",
       "   'Dr': 'Ahsan',\n",
       "   'Time': '12:30',\n",
       "   'Fees': 200},),\n",
       " ({'Appointment No': 176,\n",
       "   'Date': '22 Dec 2024',\n",
       "   'Dr': 'Hanzala',\n",
       "   'Time': '2:00',\n",
       "   'Fees': 2500},)]"
      ]
     },
     "execution_count": 21,
     "metadata": {},
     "output_type": "execute_result"
    }
   ],
   "source": [
    "Appointments.append(Appointment4)\n",
    "Appointments"
   ]
  },
  {
   "cell_type": "code",
   "execution_count": 22,
   "id": "d26adc5c-a529-49ac-8464-11c0552c693e",
   "metadata": {},
   "outputs": [
    {
     "data": {
      "text/plain": [
       "[{'Appointment No': 156,\n",
       "  'Date': '12 Dec 2024',\n",
       "  'Dr': 'Asadullah',\n",
       "  'Time': '12:00',\n",
       "  'Fees': 500},\n",
       " ({'Appointment No': 165,\n",
       "   'Date': '10 Dec 2024',\n",
       "   'Dr': 'Uzair',\n",
       "   'Time': '01:00',\n",
       "   'Fees': 400},),\n",
       " ({'Appointment No': 166,\n",
       "   'Date': '15 Nov 2024',\n",
       "   'Dr': 'Daniyal',\n",
       "   'Time': '12:50',\n",
       "   'Fees': 1500},),\n",
       " ({'Appointment No': 106,\n",
       "   'Date': '2 Dec 2024',\n",
       "   'Dr': 'Ahsan',\n",
       "   'Time': '12:30',\n",
       "   'Fees': 200},),\n",
       " ({'Appointment No': 176,\n",
       "   'Date': '22 Dec 2024',\n",
       "   'Dr': 'Hanzala',\n",
       "   'Time': '2:00',\n",
       "   'Fees': 2500},)]"
      ]
     },
     "execution_count": 22,
     "metadata": {},
     "output_type": "execute_result"
    }
   ],
   "source": [
    "Appointments"
   ]
  },
  {
   "cell_type": "code",
   "execution_count": 23,
   "id": "3222ace9-df4a-45a6-a359-2f34ce07fbaf",
   "metadata": {},
   "outputs": [],
   "source": [
    "# 4 Store a company's employee details, organized by department"
   ]
  },
  {
   "cell_type": "code",
   "execution_count": 24,
   "id": "b3b93bcc-3207-4480-a338-862067c7fbe9",
   "metadata": {},
   "outputs": [
    {
     "data": {
      "text/plain": [
       "{'name': 'hasam',\n",
       " 'age': 21,\n",
       " 'gender': 'male',\n",
       " 'tenure': '4Y',\n",
       " 'Department': 'Inventory'}"
      ]
     },
     "execution_count": 24,
     "metadata": {},
     "output_type": "execute_result"
    }
   ],
   "source": [
    "Employees = {\n",
    "     '1024' : {'name': 'hasam', 'age': 21, 'gender': 'male','tenure':'4Y', 'Department' : 'Inventory'},\n",
    "     '1026' : {'name': 'hira', 'age': 41, 'gender': 'female','tenure':'5Y', 'Department' : 'Sales'},\n",
    "     '1028' : {'name': 'sara', 'age': 28, 'gender': 'female','tenure':'8Y', 'Department' : 'Marketing'}\n",
    "}\n",
    "\n",
    "Employees['1024']"
   ]
  },
  {
   "cell_type": "code",
   "execution_count": 25,
   "id": "7a59ea0a-5638-43ad-84eb-da2c9d93ddf1",
   "metadata": {},
   "outputs": [
    {
     "data": {
      "text/plain": [
       "'Inventory'"
      ]
     },
     "execution_count": 25,
     "metadata": {},
     "output_type": "execute_result"
    }
   ],
   "source": [
    "Employees['1024']['Department']"
   ]
  },
  {
   "cell_type": "code",
   "execution_count": 26,
   "id": "5ed76fa4-a78a-4401-9bd9-fe633ffe0847",
   "metadata": {},
   "outputs": [
    {
     "data": {
      "text/plain": [
       "'8Y'"
      ]
     },
     "execution_count": 26,
     "metadata": {},
     "output_type": "execute_result"
    }
   ],
   "source": [
    "Employees['1028']['tenure']"
   ]
  },
  {
   "cell_type": "code",
   "execution_count": 27,
   "id": "e67b9c35-f46d-40e8-8de2-9154ecca227a",
   "metadata": {},
   "outputs": [],
   "source": [
    "#5 Keep track of student scores in various subjects and retrieve a student's scores"
   ]
  },
  {
   "cell_type": "code",
   "execution_count": 28,
   "id": "1dc8afab-d505-4062-82cb-df7b57fb50b0",
   "metadata": {},
   "outputs": [
    {
     "data": {
      "text/plain": [
       "[{'Name': 'Ali',\n",
       "  'Subject': ['math', 'Bio', 'Chem'],\n",
       "  'Group': 'Medical',\n",
       "  'Score': ['75', '80', '85'],\n",
       "  'Grade': 'A'},\n",
       " {'Name': 'Ahmed',\n",
       "  'Subject': ['Math', 'Phy', 'Chem'],\n",
       "  'Group': 'Engr',\n",
       "  'Score': ['70', '60', '75'],\n",
       "  'Grade': 'B'},\n",
       " {'Name': 'Abdullah',\n",
       "  'Subject': ['Phy', 'Bio', 'Chem'],\n",
       "  'Group': 'Medical',\n",
       "  'Score': ['55', '80', '85'],\n",
       "  'Grade': 'A'}]"
      ]
     },
     "execution_count": 28,
     "metadata": {},
     "output_type": "execute_result"
    }
   ],
   "source": [
    "Students=[\n",
    "    {\n",
    "    'Name' : 'Ali',\n",
    "    'Subject' : ['math','Bio','Chem'],\n",
    "    'Group' : 'Medical',\n",
    "    'Score' : ['75','80','85'],\n",
    "    'Grade' : 'A',\n",
    "},\n",
    "    {\n",
    "    'Name' : 'Ahmed',\n",
    "    'Subject' :['Math','Phy','Chem'],\n",
    "    'Group' : 'Engr',\n",
    "    'Score' : ['70','60','75'],\n",
    "    'Grade' : 'B',\n",
    "},\n",
    "    {\n",
    "    'Name' : 'Abdullah',\n",
    "    'Subject' :['Phy','Bio','Chem'],\n",
    "    'Group' : 'Medical',\n",
    "    'Score' : ['55','80','85'],\n",
    "    'Grade' : 'A',\n",
    "},\n",
    "]\n",
    "Student1={\n",
    "    'Name' : 'Faiz',\n",
    "    'Subject' :['Account','Comp','Phy'],\n",
    "    'Group' : 'Commerce',\n",
    "    'Score' : ['95','80','85'],\n",
    "    'Grade' : 'A-1',\n",
    "}\n",
    "\n",
    "Students\n"
   ]
  },
  {
   "cell_type": "code",
   "execution_count": 29,
   "id": "a401533e-0050-4988-9cb8-d4a13d5463c0",
   "metadata": {},
   "outputs": [
    {
     "data": {
      "text/plain": [
       "[{'Name': 'Ali',\n",
       "  'Subject': ['math', 'Bio', 'Chem'],\n",
       "  'Group': 'Medical',\n",
       "  'Score': ['75', '80', '85'],\n",
       "  'Grade': 'A'},\n",
       " {'Name': 'Ahmed',\n",
       "  'Subject': ['Math', 'Phy', 'Chem'],\n",
       "  'Group': 'Engr',\n",
       "  'Score': ['70', '60', '75'],\n",
       "  'Grade': 'B'},\n",
       " {'Name': 'Abdullah',\n",
       "  'Subject': ['Phy', 'Bio', 'Chem'],\n",
       "  'Group': 'Medical',\n",
       "  'Score': ['55', '80', '85'],\n",
       "  'Grade': 'A'},\n",
       " {'Name': 'Faiz',\n",
       "  'Subject': ['Account', 'Comp', 'Phy'],\n",
       "  'Group': 'Commerce',\n",
       "  'Score': ['95', '80', '85'],\n",
       "  'Grade': 'A-1'}]"
      ]
     },
     "execution_count": 29,
     "metadata": {},
     "output_type": "execute_result"
    }
   ],
   "source": [
    "Students.append(Student1)\n",
    "Students"
   ]
  },
  {
   "cell_type": "code",
   "execution_count": 30,
   "id": "2967f59b-4ff8-4a3e-ad93-c8f4e7840274",
   "metadata": {},
   "outputs": [
    {
     "data": {
      "text/plain": [
       "{'Name': 'Ahmed',\n",
       " 'Subject': ['Math', 'Phy', 'Chem'],\n",
       " 'Group': 'Engr',\n",
       " 'Score': ['70', '60', '75'],\n",
       " 'Grade': 'B'}"
      ]
     },
     "execution_count": 30,
     "metadata": {},
     "output_type": "execute_result"
    }
   ],
   "source": [
    "Students[1]"
   ]
  },
  {
   "cell_type": "code",
   "execution_count": 31,
   "id": "b1540752-b93e-4cc7-9145-c07237704a12",
   "metadata": {},
   "outputs": [
    {
     "data": {
      "text/plain": [
       "{'Name': 'Faiz',\n",
       " 'Subject': ['Account', 'Comp', 'Phy'],\n",
       " 'Group': 'Commerce',\n",
       " 'Score': ['95', '80', '85'],\n",
       " 'Grade': 'A-1'}"
      ]
     },
     "execution_count": 31,
     "metadata": {},
     "output_type": "execute_result"
    }
   ],
   "source": [
    "Students[3]"
   ]
  },
  {
   "cell_type": "code",
   "execution_count": 32,
   "id": "67d4a0b3-d5af-44d1-b703-acf8933359d6",
   "metadata": {},
   "outputs": [
    {
     "data": {
      "text/plain": [
       "['70', '60', '75']"
      ]
     },
     "execution_count": 32,
     "metadata": {},
     "output_type": "execute_result"
    }
   ],
   "source": [
    "Students[1]['Score']"
   ]
  },
  {
   "cell_type": "code",
   "execution_count": 33,
   "id": "88b686bd-34e6-48b8-b504-b9821a1c3a01",
   "metadata": {},
   "outputs": [
    {
     "data": {
      "text/plain": [
       "['95', '80', '85']"
      ]
     },
     "execution_count": 33,
     "metadata": {},
     "output_type": "execute_result"
    }
   ],
   "source": [
    "Students[3]['Score']"
   ]
  },
  {
   "cell_type": "code",
   "execution_count": 34,
   "id": "0616c236-49cc-47b8-8885-014213a4653b",
   "metadata": {},
   "outputs": [],
   "source": [
    "# Track various projects and their associated tasks, and retrieve tasks for a specific project"
   ]
  },
  {
   "cell_type": "code",
   "execution_count": 35,
   "id": "f6cafb4e-4cd5-4c0d-8f84-39aa790ea422",
   "metadata": {},
   "outputs": [
    {
     "data": {
      "text/plain": [
       "{'Website Design': ['Themes',\n",
       "  'Layouts',\n",
       "  'Seo',\n",
       "  'Off Page',\n",
       "  'OnPage',\n",
       "  'Loading time']}"
      ]
     },
     "execution_count": 35,
     "metadata": {},
     "output_type": "execute_result"
    }
   ],
   "source": [
    "Project1={'Website Design' :['Themes', 'Layouts', 'Seo', 'Off Page', 'OnPage', 'Loading time'],\n",
    "         } \n",
    "Project2={'Marketing Plan': ['Sales','Targeted Audience', 'Product Quality', 'Product Testing', 'Product Reviews'],\n",
    "         }\n",
    "Project3={'Finance Plan' : [ 'Return on Investment', 'Lower Marketing Budget','limited Product Cost', 'limited Expense'],\n",
    "         }\n",
    "Project1"
   ]
  },
  {
   "cell_type": "code",
   "execution_count": 36,
   "id": "e5f0cfaa-6006-40d7-b6b9-ed1751da1799",
   "metadata": {},
   "outputs": [
    {
     "data": {
      "text/plain": [
       "{'Marketing Plan': ['Sales',\n",
       "  'Targeted Audience',\n",
       "  'Product Quality',\n",
       "  'Product Testing',\n",
       "  'Product Reviews']}"
      ]
     },
     "execution_count": 36,
     "metadata": {},
     "output_type": "execute_result"
    }
   ],
   "source": [
    "Project2"
   ]
  },
  {
   "cell_type": "code",
   "execution_count": 37,
   "id": "20bd62af-1b0d-4ca8-a0db-86c3f1eb923d",
   "metadata": {},
   "outputs": [
    {
     "data": {
      "text/plain": [
       "{'Finance Plan': ['Return on Investment',\n",
       "  'Lower Marketing Budget',\n",
       "  'limited Product Cost',\n",
       "  'limited Expense']}"
      ]
     },
     "execution_count": 37,
     "metadata": {},
     "output_type": "execute_result"
    }
   ],
   "source": [
    "Project3"
   ]
  },
  {
   "cell_type": "code",
   "execution_count": 38,
   "id": "cbebdee1-1320-4723-ab33-767d80c5ac46",
   "metadata": {},
   "outputs": [
    {
     "data": {
      "text/plain": [
       "'limited Expense'"
      ]
     },
     "execution_count": 38,
     "metadata": {},
     "output_type": "execute_result"
    }
   ],
   "source": [
    "Project3['Finance Plan'][3] "
   ]
  },
  {
   "cell_type": "code",
   "execution_count": 39,
   "id": "14f4eb1f-a492-4ebb-a470-0398ff08fd61",
   "metadata": {},
   "outputs": [
    {
     "data": {
      "text/plain": [
       "'Targeted Audience'"
      ]
     },
     "execution_count": 39,
     "metadata": {},
     "output_type": "execute_result"
    }
   ],
   "source": [
    "Project2['Marketing Plan'][1] "
   ]
  },
  {
   "cell_type": "code",
   "execution_count": 40,
   "id": "c0283901-ed22-42df-9700-4068ae091413",
   "metadata": {},
   "outputs": [
    {
     "data": {
      "text/plain": [
       "'Layouts'"
      ]
     },
     "execution_count": 40,
     "metadata": {},
     "output_type": "execute_result"
    }
   ],
   "source": [
    "Project1['Website Design'][1]"
   ]
  },
  {
   "cell_type": "code",
   "execution_count": 41,
   "id": "32f6c5b4-9cde-4dbe-993f-4a57c413cb83",
   "metadata": {},
   "outputs": [],
   "source": [
    " #7 Manage courses and their contents in a training program and retrieve details of a specific module"
   ]
  },
  {
   "cell_type": "code",
   "execution_count": 42,
   "id": "74a5ccae-4d1b-488b-89fc-9dc77038feb1",
   "metadata": {},
   "outputs": [
    {
     "data": {
      "text/plain": [
       "{'Math': {'Algabra',\n",
       "  'Derivatives',\n",
       "  'Geometry',\n",
       "  'Multiplication',\n",
       "  'Quardic Equation'},\n",
       " 'Physics': {'Boyles Law', 'Charles Law', 'Force Law', 'Newton Law'},\n",
       " 'Accounting': {'Balance sheet',\n",
       "  'Fifo',\n",
       "  'General Leger',\n",
       "  'Income Statemnt',\n",
       "  'Lifo',\n",
       "  'Tax',\n",
       "  'Trail Balance'}}"
      ]
     },
     "execution_count": 42,
     "metadata": {},
     "output_type": "execute_result"
    }
   ],
   "source": [
    "Training_Program = {\n",
    "    'Math' : {'Algabra', 'Quardic Equation','Geometry','Derivatives','Multiplication'},\n",
    "    'Physics' : { 'Boyles Law', 'Charles Law', 'Newton Law', 'Force Law'},\n",
    "    'Accounting' :{'General Leger', 'Trail Balance', 'Fifo', 'Lifo', 'Balance sheet','Income Statemnt','Tax'}\n",
    "}\n",
    "Training_Program"
   ]
  },
  {
   "cell_type": "code",
   "execution_count": 43,
   "id": "353f26f6-783a-49cf-a127-85f7bceb7c5a",
   "metadata": {},
   "outputs": [
    {
     "data": {
      "text/plain": [
       "{'Algabra', 'Derivatives', 'Geometry', 'Multiplication', 'Quardic Equation'}"
      ]
     },
     "execution_count": 43,
     "metadata": {},
     "output_type": "execute_result"
    }
   ],
   "source": [
    "Training_Program ['Math']"
   ]
  },
  {
   "cell_type": "code",
   "execution_count": 44,
   "id": "3e839bc6-0d75-40b7-ab08-fb5f94f32617",
   "metadata": {},
   "outputs": [
    {
     "data": {
      "text/plain": [
       "{'Balance sheet',\n",
       " 'Fifo',\n",
       " 'General Leger',\n",
       " 'Income Statemnt',\n",
       " 'Lifo',\n",
       " 'Tax',\n",
       " 'Trail Balance'}"
      ]
     },
     "execution_count": 44,
     "metadata": {},
     "output_type": "execute_result"
    }
   ],
   "source": [
    "Training_Program ['Accounting']"
   ]
  },
  {
   "cell_type": "code",
   "execution_count": 45,
   "id": "35972bb4-2f91-4487-a4ad-2b43a2fc3355",
   "metadata": {},
   "outputs": [
    {
     "data": {
      "text/plain": [
       "{'Boyles Law', 'Charles Law', 'Force Law', 'Newton Law'}"
      ]
     },
     "execution_count": 45,
     "metadata": {},
     "output_type": "execute_result"
    }
   ],
   "source": [
    "Training_Program ['Physics']"
   ]
  },
  {
   "cell_type": "code",
   "execution_count": 46,
   "id": "31070ed1-5ace-41bf-8b6e-1d4cf925967f",
   "metadata": {},
   "outputs": [],
   "source": [
    "# 8 You have a list where each element is a tuple containing a product's name and its price."
   ]
  },
  {
   "cell_type": "code",
   "execution_count": 47,
   "id": "fb0d9481-a7c3-4151-a761-5ed70e577beb",
   "metadata": {},
   "outputs": [
    {
     "data": {
      "text/plain": [
       "(('Dell', 'Model', 'Core 3', 'Price', '36000'),)"
      ]
     },
     "execution_count": 47,
     "metadata": {},
     "output_type": "execute_result"
    }
   ],
   "source": [
    "Product_1 =('Dell','Model','Core 3','Price','36000'),\n",
    "Product_2 = ('Lenavo','Model','Genration 4','Price','46000'),\n",
    "Product_3 = ('Hp','Model','Core i5','Price','76000')\n",
    "Product_1"
   ]
  },
  {
   "cell_type": "code",
   "execution_count": 98,
   "id": "7e02ae8d-8ec2-4e08-96db-7debed42385b",
   "metadata": {},
   "outputs": [
    {
     "data": {
      "text/plain": [
       "(('Lenavo', 'Model', 'Genration 4', 'Price', '46000'),)"
      ]
     },
     "execution_count": 98,
     "metadata": {},
     "output_type": "execute_result"
    }
   ],
   "source": [
    "Product_2"
   ]
  },
  {
   "cell_type": "code",
   "execution_count": 100,
   "id": "6603d705-f1e6-4496-a0ca-18470ed7c303",
   "metadata": {},
   "outputs": [
    {
     "data": {
      "text/plain": [
       "('Hp', 'Model', 'Core i5', 'Price', '76000')"
      ]
     },
     "execution_count": 100,
     "metadata": {},
     "output_type": "execute_result"
    }
   ],
   "source": [
    "Product_3"
   ]
  },
  {
   "cell_type": "code",
   "execution_count": 104,
   "id": "495511c9-3622-431b-8935-859f58b96200",
   "metadata": {},
   "outputs": [
    {
     "data": {
      "text/plain": [
       "2"
      ]
     },
     "execution_count": 104,
     "metadata": {},
     "output_type": "execute_result"
    }
   ],
   "source": [
    "Product_1[0]"
   ]
  },
  {
   "cell_type": "code",
   "execution_count": 116,
   "id": "f078e516-8efa-43e6-a2ea-224cb1fe379d",
   "metadata": {},
   "outputs": [],
   "source": [
    "Products=list(Product_3)"
   ]
  },
  {
   "cell_type": "code",
   "execution_count": 118,
   "id": "adaac45e-1eab-4899-827d-c21f87828cfb",
   "metadata": {},
   "outputs": [
    {
     "data": {
      "text/plain": [
       "['Hp', 'Model', 'Core i5', 'Price', '76000']"
      ]
     },
     "execution_count": 118,
     "metadata": {},
     "output_type": "execute_result"
    }
   ],
   "source": [
    "Products"
   ]
  },
  {
   "cell_type": "code",
   "execution_count": 120,
   "id": "b3e28567-fae1-408a-8ba9-5062f0a26524",
   "metadata": {},
   "outputs": [],
   "source": [
    "Products=tuple(Product_2)"
   ]
  },
  {
   "cell_type": "code",
   "execution_count": 122,
   "id": "35c91750-78fd-4534-9aa6-eb70e66b5dbd",
   "metadata": {},
   "outputs": [
    {
     "data": {
      "text/plain": [
       "(('Lenavo', 'Model', 'Genration 4', 'Price', '46000'),)"
      ]
     },
     "execution_count": 122,
     "metadata": {},
     "output_type": "execute_result"
    }
   ],
   "source": [
    "Products"
   ]
  },
  {
   "cell_type": "code",
   "execution_count": null,
   "id": "57afb3cd-1bbd-40f6-8bfc-53f11057db61",
   "metadata": {},
   "outputs": [],
   "source": []
  }
 ],
 "metadata": {
  "kernelspec": {
   "display_name": "Python 3 (ipykernel)",
   "language": "python",
   "name": "python3"
  },
  "language_info": {
   "codemirror_mode": {
    "name": "ipython",
    "version": 3
   },
   "file_extension": ".py",
   "mimetype": "text/x-python",
   "name": "python",
   "nbconvert_exporter": "python",
   "pygments_lexer": "ipython3",
   "version": "3.12.4"
  }
 },
 "nbformat": 4,
 "nbformat_minor": 5
}
